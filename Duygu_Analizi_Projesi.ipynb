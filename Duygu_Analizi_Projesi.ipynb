{
  "nbformat": 4,
  "nbformat_minor": 0,
  "metadata": {
    "colab": {
      "name": "Duygu Analizi Projesi.ipynb",
      "provenance": [],
      "collapsed_sections": [],
      "include_colab_link": true
    },
    "kernelspec": {
      "name": "python3",
      "display_name": "Python 3"
    },
    "accelerator": "GPU"
  },
  "cells": [
    {
      "cell_type": "markdown",
      "metadata": {
        "id": "view-in-github",
        "colab_type": "text"
      },
      "source": [
        "<a href=\"https://colab.research.google.com/github/melikebsds/DuyguAnalizi/blob/main/Duygu_Analizi_Projesi.ipynb\" target=\"_parent\"><img src=\"https://colab.research.google.com/assets/colab-badge.svg\" alt=\"Open In Colab\"/></a>"
      ]
    },
    {
      "cell_type": "code",
      "metadata": {
        "id": "GYVODrBib6mb",
        "outputId": "244594bc-0d82-4ac0-ee68-9007ec879cd0",
        "colab": {
          "base_uri": "https://localhost:8080/",
          "height": 374
        }
      },
      "source": [
        "import sys,os\n",
        "import tensorflow as tf\n",
        "import numpy as np\n",
        "import pandas as pd\n",
        "import keras\n",
        "from keras.models import Sequential \n",
        "from keras.layers import Dense, Dropout, Activation, Flatten  \n",
        "from keras.layers import Conv2D, MaxPooling2D, BatchNormalization,AveragePooling2D, MaxPool2D\n",
        "from keras.losses import categorical_crossentropy  \n",
        "from keras.optimizers import Adam  \n",
        "from keras.regularizers import l2 \n",
        "from keras.utils import np_utils\n",
        "from keras.constraints import max_norm"
      ],
      "execution_count": null,
      "outputs": [
        {
          "output_type": "error",
          "ename": "ImportError",
          "evalue": "ignored",
          "traceback": [
            "\u001b[0;31m---------------------------------------------------------------------------\u001b[0m",
            "\u001b[0;31mImportError\u001b[0m                               Traceback (most recent call last)",
            "\u001b[0;32m<ipython-input-1-12435c5f7e3d>\u001b[0m in \u001b[0;36m<module>\u001b[0;34m()\u001b[0m\n\u001b[1;32m      8\u001b[0m \u001b[0;32mfrom\u001b[0m \u001b[0mkeras\u001b[0m\u001b[0;34m.\u001b[0m\u001b[0mlayers\u001b[0m \u001b[0;32mimport\u001b[0m \u001b[0mConv2D\u001b[0m\u001b[0;34m,\u001b[0m \u001b[0mMaxPooling2D\u001b[0m\u001b[0;34m,\u001b[0m \u001b[0mBatchNormalization\u001b[0m\u001b[0;34m,\u001b[0m\u001b[0mAveragePooling2D\u001b[0m\u001b[0;34m,\u001b[0m \u001b[0mMaxPool2D\u001b[0m\u001b[0;34m\u001b[0m\u001b[0;34m\u001b[0m\u001b[0m\n\u001b[1;32m      9\u001b[0m \u001b[0;32mfrom\u001b[0m \u001b[0mkeras\u001b[0m\u001b[0;34m.\u001b[0m\u001b[0mlosses\u001b[0m \u001b[0;32mimport\u001b[0m \u001b[0mcategorical_crossentropy\u001b[0m\u001b[0;34m\u001b[0m\u001b[0;34m\u001b[0m\u001b[0m\n\u001b[0;32m---> 10\u001b[0;31m \u001b[0;32mfrom\u001b[0m \u001b[0mkeras\u001b[0m\u001b[0;34m.\u001b[0m\u001b[0moptimizers\u001b[0m \u001b[0;32mimport\u001b[0m \u001b[0mAdam\u001b[0m\u001b[0;34m\u001b[0m\u001b[0;34m\u001b[0m\u001b[0m\n\u001b[0m\u001b[1;32m     11\u001b[0m \u001b[0;32mfrom\u001b[0m \u001b[0mkeras\u001b[0m\u001b[0;34m.\u001b[0m\u001b[0mregularizers\u001b[0m \u001b[0;32mimport\u001b[0m \u001b[0ml2\u001b[0m\u001b[0;34m\u001b[0m\u001b[0;34m\u001b[0m\u001b[0m\n\u001b[1;32m     12\u001b[0m \u001b[0;32mfrom\u001b[0m \u001b[0mkeras\u001b[0m\u001b[0;34m.\u001b[0m\u001b[0mutils\u001b[0m \u001b[0;32mimport\u001b[0m \u001b[0mnp_utils\u001b[0m\u001b[0;34m\u001b[0m\u001b[0;34m\u001b[0m\u001b[0m\n",
            "\u001b[0;31mImportError\u001b[0m: cannot import name 'Adam' from 'keras.optimizers' (/usr/local/lib/python3.7/dist-packages/keras/optimizers.py)",
            "",
            "\u001b[0;31m---------------------------------------------------------------------------\u001b[0;32m\nNOTE: If your import is failing due to a missing package, you can\nmanually install dependencies using either !pip or !apt.\n\nTo view examples of installing some common dependencies, click the\n\"Open Examples\" button below.\n\u001b[0;31m---------------------------------------------------------------------------\u001b[0m\n"
          ],
          "errorDetails": {
            "actions": [
              {
                "action": "open_url",
                "actionText": "Open Examples",
                "url": "/notebooks/snippets/importing_libraries.ipynb"
              }
            ]
          }
        }
      ]
    },
    {
      "cell_type": "code",
      "metadata": {
        "id": "XTwIe69UzRR9"
      },
      "source": [
        "from google.colab import drive\n",
        "drive.mount('/gdrive')\n",
        "%cd /gdrive"
      ],
      "execution_count": null,
      "outputs": []
    },
    {
      "cell_type": "code",
      "metadata": {
        "id": "ZiaNUe5CzSCS",
        "colab": {
          "base_uri": "https://localhost:8080/"
        },
        "outputId": "0d2b0c08-36a8-4e65-9f60-c620277de5ee"
      },
      "source": [
        "df=pd.read_csv('/gdrive/My Drive/Proje/fer2013.csv')\n",
        "print(df.head)"
      ],
      "execution_count": null,
      "outputs": [
        {
          "output_type": "stream",
          "text": [
            "<bound method NDFrame.head of        emotion                                             pixels        Usage\n",
            "0            0  70 80 82 72 58 58 60 63 54 58 60 48 89 115 121...     Training\n",
            "1            0  151 150 147 155 148 133 111 140 170 174 182 15...     Training\n",
            "2            2  231 212 156 164 174 138 161 173 182 200 106 38...     Training\n",
            "3            4  24 32 36 30 32 23 19 20 30 41 21 22 32 34 21 1...     Training\n",
            "4            6  4 0 0 0 0 0 0 0 0 0 0 0 3 15 23 28 48 50 58 84...     Training\n",
            "...        ...                                                ...          ...\n",
            "35882        6  50 36 17 22 23 29 33 39 34 37 37 37 39 43 48 5...  PrivateTest\n",
            "35883        3  178 174 172 173 181 188 191 194 196 199 200 20...  PrivateTest\n",
            "35884        0  17 17 16 23 28 22 19 17 25 26 20 24 31 19 27 9...  PrivateTest\n",
            "35885        3  30 28 28 29 31 30 42 68 79 81 77 67 67 71 63 6...  PrivateTest\n",
            "35886        2  19 13 14 12 13 16 21 33 50 57 71 84 97 108 122...  PrivateTest\n",
            "\n",
            "[35887 rows x 3 columns]>\n"
          ],
          "name": "stdout"
        }
      ]
    },
    {
      "cell_type": "code",
      "metadata": {
        "id": "CDP3ajAxzT_8"
      },
      "source": [
        "X_train,train_y,X_test,test_y=[],[],[],[]  \n",
        "for index, row in df.iterrows():  \n",
        "    val=row['pixels'].split(\" \")  \n",
        "    if 'Training' in row['Usage']:\n",
        "      X_train.append(np.array(val,'float32'))  \n",
        "      train_y.append(row['emotion'])  \n",
        "    elif 'PublicTest' and 'PrivateTest' in row['Usage']:  \n",
        "      X_test.append(np.array(val,'float32'))  \n",
        "      test_y.append(row['emotion'])"
      ],
      "execution_count": null,
      "outputs": []
    },
    {
      "cell_type": "code",
      "metadata": {
        "id": "DhShZlqDzWCP"
      },
      "source": [
        "num_features = 64  \n",
        "num_labels = 7  \n",
        "batch_size = 64  \n",
        "epochs = 75\n",
        "#sayıları float tipi arraye dönüştür\n",
        "X_train = np.array(X_train,'float32')  \n",
        "X_test = np.array(X_test,'float32') \n",
        "X_train.shape\n",
        "train_y = keras.utils.to_categorical(train_y, 7)#7 kategoriye göre matris yapar\n",
        "test_y = keras.utils.to_categorical(test_y, 7)\n",
        "\n",
        "X_train = X_train.reshape(X_train.shape[0], 48, 48, 1)  \n",
        "X_test = X_test.reshape(X_test.shape[0], 48, 48, 1)\n",
        "input_shape = (48 , 48, 1)\n",
        "\n",
        "X_train /= 255 #verileri normalleştir\n",
        "X_test /=255"
      ],
      "execution_count": null,
      "outputs": []
    },
    {
      "cell_type": "code",
      "metadata": {
        "id": "IIE3GGctzYkO",
        "colab": {
          "base_uri": "https://localhost:8080/"
        },
        "outputId": "5dffdb98-17e0-48c2-8745-949fc5fc6195"
      },
      "source": [
        "max_norm_value = 2.0\n",
        "model = Sequential()\n",
        "model.add(Conv2D(64, kernel_size=(3, 3), kernel_constraint=max_norm(max_norm_value), activation='relu', input_shape=input_shape, kernel_initializer='he_uniform'))\n",
        "model.add(MaxPooling2D(pool_size=(2, 2)))\n",
        "model.add(Dropout(0.50))\n",
        "model.add(Conv2D(64, kernel_size=(3, 3), kernel_constraint=max_norm(max_norm_value), activation='relu', input_shape=input_shape, kernel_initializer='he_uniform'))\n",
        "model.add(MaxPooling2D(pool_size=(2, 2)))\n",
        "model.add(Dropout(0.50))\n",
        "model.add(Conv2D(64, kernel_size=(3, 3), kernel_constraint=max_norm(max_norm_value), activation='relu', input_shape=input_shape, kernel_initializer='he_uniform'))\n",
        "model.add(MaxPooling2D(pool_size=(2, 2)))\n",
        "model.add(Dropout(0.50))\n",
        "model.add(Flatten())\n",
        "model.add(Dense(256, activation='relu', kernel_constraint=max_norm(max_norm_value), kernel_initializer='he_uniform'))\n",
        "model.add(Dense(7, activation='softmax'))\n",
        "model.summary()"
      ],
      "execution_count": null,
      "outputs": [
        {
          "output_type": "stream",
          "text": [
            "Model: \"sequential\"\n",
            "_________________________________________________________________\n",
            "Layer (type)                 Output Shape              Param #   \n",
            "=================================================================\n",
            "conv2d (Conv2D)              (None, 46, 46, 64)        640       \n",
            "_________________________________________________________________\n",
            "max_pooling2d (MaxPooling2D) (None, 23, 23, 64)        0         \n",
            "_________________________________________________________________\n",
            "dropout (Dropout)            (None, 23, 23, 64)        0         \n",
            "_________________________________________________________________\n",
            "conv2d_1 (Conv2D)            (None, 21, 21, 64)        36928     \n",
            "_________________________________________________________________\n",
            "max_pooling2d_1 (MaxPooling2 (None, 10, 10, 64)        0         \n",
            "_________________________________________________________________\n",
            "dropout_1 (Dropout)          (None, 10, 10, 64)        0         \n",
            "_________________________________________________________________\n",
            "conv2d_2 (Conv2D)            (None, 8, 8, 64)          36928     \n",
            "_________________________________________________________________\n",
            "max_pooling2d_2 (MaxPooling2 (None, 4, 4, 64)          0         \n",
            "_________________________________________________________________\n",
            "dropout_2 (Dropout)          (None, 4, 4, 64)          0         \n",
            "_________________________________________________________________\n",
            "flatten (Flatten)            (None, 1024)              0         \n",
            "_________________________________________________________________\n",
            "dense (Dense)                (None, 256)               262400    \n",
            "_________________________________________________________________\n",
            "dense_1 (Dense)              (None, 7)                 1799      \n",
            "=================================================================\n",
            "Total params: 338,695\n",
            "Trainable params: 338,695\n",
            "Non-trainable params: 0\n",
            "_________________________________________________________________\n"
          ],
          "name": "stdout"
        }
      ]
    },
    {
      "cell_type": "code",
      "metadata": {
        "id": "8VyFigFizcS9",
        "colab": {
          "base_uri": "https://localhost:8080/"
        },
        "outputId": "e03e83d5-567d-4051-8787-a965f888d8cd"
      },
      "source": [
        "model.compile(loss=keras.losses.categorical_crossentropy,\n",
        "              optimizer=keras.optimizers.Adam(),\n",
        "              metrics=['accuracy'])\n",
        "\n",
        "from keras.callbacks import ModelCheckpoint\n",
        "os.chdir('/gdrive/My Drive/Proje')\n",
        "checkpointer = ModelCheckpoint(filepath='/face_model.h5', verbose=1, save_best_only=True)\n",
        "\n",
        "# Fit data to model\n",
        "hist = model.fit(X_train, train_y,\n",
        "          batch_size=batch_size,\n",
        "          epochs=epochs,\n",
        "          verbose=1,\n",
        "          callbacks=[checkpointer],\n",
        "          validation_split=0.2\n",
        ")"
      ],
      "execution_count": null,
      "outputs": [
        {
          "output_type": "stream",
          "text": [
            "Epoch 1/75\n",
            "359/359 [==============================] - 11s 10ms/step - loss: 2.3680 - accuracy: 0.2113 - val_loss: 1.8634 - val_accuracy: 0.2517\n",
            "\n",
            "Epoch 00001: val_loss improved from inf to 1.86343, saving model to /face_model.h5\n",
            "Epoch 2/75\n",
            "359/359 [==============================] - 3s 9ms/step - loss: 1.8246 - accuracy: 0.2370 - val_loss: 1.8233 - val_accuracy: 0.2517\n",
            "\n",
            "Epoch 00002: val_loss improved from 1.86343 to 1.82326, saving model to /face_model.h5\n",
            "Epoch 3/75\n",
            "359/359 [==============================] - 3s 9ms/step - loss: 1.8102 - accuracy: 0.2476 - val_loss: 1.8160 - val_accuracy: 0.2517\n",
            "\n",
            "Epoch 00003: val_loss improved from 1.82326 to 1.81595, saving model to /face_model.h5\n",
            "Epoch 4/75\n",
            "359/359 [==============================] - 3s 9ms/step - loss: 1.8056 - accuracy: 0.2516 - val_loss: 1.8016 - val_accuracy: 0.2598\n",
            "\n",
            "Epoch 00004: val_loss improved from 1.81595 to 1.80155, saving model to /face_model.h5\n",
            "Epoch 5/75\n",
            "359/359 [==============================] - 3s 9ms/step - loss: 1.7774 - accuracy: 0.2712 - val_loss: 1.7522 - val_accuracy: 0.2780\n",
            "\n",
            "Epoch 00005: val_loss improved from 1.80155 to 1.75219, saving model to /face_model.h5\n",
            "Epoch 6/75\n",
            "359/359 [==============================] - 3s 9ms/step - loss: 1.7128 - accuracy: 0.3063 - val_loss: 1.6845 - val_accuracy: 0.3236\n",
            "\n",
            "Epoch 00006: val_loss improved from 1.75219 to 1.68448, saving model to /face_model.h5\n",
            "Epoch 7/75\n",
            "359/359 [==============================] - 3s 9ms/step - loss: 1.6771 - accuracy: 0.3296 - val_loss: 1.6256 - val_accuracy: 0.3483\n",
            "\n",
            "Epoch 00007: val_loss improved from 1.68448 to 1.62558, saving model to /face_model.h5\n",
            "Epoch 8/75\n",
            "359/359 [==============================] - 3s 9ms/step - loss: 1.6425 - accuracy: 0.3509 - val_loss: 1.5984 - val_accuracy: 0.3753\n",
            "\n",
            "Epoch 00008: val_loss improved from 1.62558 to 1.59844, saving model to /face_model.h5\n",
            "Epoch 9/75\n",
            "359/359 [==============================] - 3s 9ms/step - loss: 1.5944 - accuracy: 0.3714 - val_loss: 1.5171 - val_accuracy: 0.4263\n",
            "\n",
            "Epoch 00009: val_loss improved from 1.59844 to 1.51711, saving model to /face_model.h5\n",
            "Epoch 10/75\n",
            "359/359 [==============================] - 3s 9ms/step - loss: 1.5537 - accuracy: 0.3915 - val_loss: 1.4746 - val_accuracy: 0.4559\n",
            "\n",
            "Epoch 00010: val_loss improved from 1.51711 to 1.47463, saving model to /face_model.h5\n",
            "Epoch 11/75\n",
            "359/359 [==============================] - 3s 9ms/step - loss: 1.5142 - accuracy: 0.4097 - val_loss: 1.4220 - val_accuracy: 0.4582\n",
            "\n",
            "Epoch 00011: val_loss improved from 1.47463 to 1.42203, saving model to /face_model.h5\n",
            "Epoch 12/75\n",
            "359/359 [==============================] - 3s 9ms/step - loss: 1.4721 - accuracy: 0.4293 - val_loss: 1.3702 - val_accuracy: 0.4814\n",
            "\n",
            "Epoch 00012: val_loss improved from 1.42203 to 1.37023, saving model to /face_model.h5\n",
            "Epoch 13/75\n",
            "359/359 [==============================] - 3s 9ms/step - loss: 1.4418 - accuracy: 0.4418 - val_loss: 1.3473 - val_accuracy: 0.4949\n",
            "\n",
            "Epoch 00013: val_loss improved from 1.37023 to 1.34734, saving model to /face_model.h5\n",
            "Epoch 14/75\n",
            "359/359 [==============================] - 3s 9ms/step - loss: 1.4327 - accuracy: 0.4487 - val_loss: 1.3212 - val_accuracy: 0.5038\n",
            "\n",
            "Epoch 00014: val_loss improved from 1.34734 to 1.32120, saving model to /face_model.h5\n",
            "Epoch 15/75\n",
            "359/359 [==============================] - 3s 9ms/step - loss: 1.3842 - accuracy: 0.4626 - val_loss: 1.2905 - val_accuracy: 0.5042\n",
            "\n",
            "Epoch 00015: val_loss improved from 1.32120 to 1.29048, saving model to /face_model.h5\n",
            "Epoch 16/75\n",
            "359/359 [==============================] - 3s 9ms/step - loss: 1.3595 - accuracy: 0.4770 - val_loss: 1.2856 - val_accuracy: 0.5167\n",
            "\n",
            "Epoch 00016: val_loss improved from 1.29048 to 1.28556, saving model to /face_model.h5\n",
            "Epoch 17/75\n",
            "359/359 [==============================] - 3s 9ms/step - loss: 1.3417 - accuracy: 0.4873 - val_loss: 1.2753 - val_accuracy: 0.5176\n",
            "\n",
            "Epoch 00017: val_loss improved from 1.28556 to 1.27532, saving model to /face_model.h5\n",
            "Epoch 18/75\n",
            "359/359 [==============================] - 3s 9ms/step - loss: 1.3146 - accuracy: 0.4908 - val_loss: 1.2462 - val_accuracy: 0.5322\n",
            "\n",
            "Epoch 00018: val_loss improved from 1.27532 to 1.24624, saving model to /face_model.h5\n",
            "Epoch 19/75\n",
            "359/359 [==============================] - 3s 9ms/step - loss: 1.3136 - accuracy: 0.5009 - val_loss: 1.2398 - val_accuracy: 0.5244\n",
            "\n",
            "Epoch 00019: val_loss improved from 1.24624 to 1.23982, saving model to /face_model.h5\n",
            "Epoch 20/75\n",
            "359/359 [==============================] - 3s 9ms/step - loss: 1.2882 - accuracy: 0.5118 - val_loss: 1.2215 - val_accuracy: 0.5366\n",
            "\n",
            "Epoch 00020: val_loss improved from 1.23982 to 1.22148, saving model to /face_model.h5\n",
            "Epoch 21/75\n",
            "359/359 [==============================] - 3s 9ms/step - loss: 1.2787 - accuracy: 0.5087 - val_loss: 1.2085 - val_accuracy: 0.5437\n",
            "\n",
            "Epoch 00021: val_loss improved from 1.22148 to 1.20853, saving model to /face_model.h5\n",
            "Epoch 22/75\n",
            "359/359 [==============================] - 3s 9ms/step - loss: 1.2568 - accuracy: 0.5241 - val_loss: 1.2213 - val_accuracy: 0.5421\n",
            "\n",
            "Epoch 00022: val_loss did not improve from 1.20853\n",
            "Epoch 23/75\n",
            "359/359 [==============================] - 3s 9ms/step - loss: 1.2506 - accuracy: 0.5216 - val_loss: 1.1999 - val_accuracy: 0.5456\n",
            "\n",
            "Epoch 00023: val_loss improved from 1.20853 to 1.19986, saving model to /face_model.h5\n",
            "Epoch 24/75\n",
            "359/359 [==============================] - 3s 9ms/step - loss: 1.2388 - accuracy: 0.5252 - val_loss: 1.1872 - val_accuracy: 0.5561\n",
            "\n",
            "Epoch 00024: val_loss improved from 1.19986 to 1.18719, saving model to /face_model.h5\n",
            "Epoch 25/75\n",
            "359/359 [==============================] - 3s 9ms/step - loss: 1.2207 - accuracy: 0.5391 - val_loss: 1.1742 - val_accuracy: 0.5543\n",
            "\n",
            "Epoch 00025: val_loss improved from 1.18719 to 1.17420, saving model to /face_model.h5\n",
            "Epoch 26/75\n",
            "359/359 [==============================] - 3s 9ms/step - loss: 1.2051 - accuracy: 0.5427 - val_loss: 1.1793 - val_accuracy: 0.5596\n",
            "\n",
            "Epoch 00026: val_loss did not improve from 1.17420\n",
            "Epoch 27/75\n",
            "359/359 [==============================] - 3s 9ms/step - loss: 1.1840 - accuracy: 0.5522 - val_loss: 1.1611 - val_accuracy: 0.5679\n",
            "\n",
            "Epoch 00027: val_loss improved from 1.17420 to 1.16107, saving model to /face_model.h5\n",
            "Epoch 28/75\n",
            "359/359 [==============================] - 3s 9ms/step - loss: 1.1913 - accuracy: 0.5474 - val_loss: 1.1494 - val_accuracy: 0.5702\n",
            "\n",
            "Epoch 00028: val_loss improved from 1.16107 to 1.14940, saving model to /face_model.h5\n",
            "Epoch 29/75\n",
            "359/359 [==============================] - 3s 9ms/step - loss: 1.1780 - accuracy: 0.5505 - val_loss: 1.1550 - val_accuracy: 0.5670\n",
            "\n",
            "Epoch 00029: val_loss did not improve from 1.14940\n",
            "Epoch 30/75\n",
            "359/359 [==============================] - 3s 9ms/step - loss: 1.1725 - accuracy: 0.5545 - val_loss: 1.1612 - val_accuracy: 0.5618\n",
            "\n",
            "Epoch 00030: val_loss did not improve from 1.14940\n",
            "Epoch 31/75\n",
            "359/359 [==============================] - 3s 9ms/step - loss: 1.1707 - accuracy: 0.5507 - val_loss: 1.1418 - val_accuracy: 0.5763\n",
            "\n",
            "Epoch 00031: val_loss improved from 1.14940 to 1.14181, saving model to /face_model.h5\n",
            "Epoch 32/75\n",
            "359/359 [==============================] - 3s 9ms/step - loss: 1.1555 - accuracy: 0.5660 - val_loss: 1.1469 - val_accuracy: 0.5700\n",
            "\n",
            "Epoch 00032: val_loss did not improve from 1.14181\n",
            "Epoch 33/75\n",
            "359/359 [==============================] - 3s 9ms/step - loss: 1.1313 - accuracy: 0.5742 - val_loss: 1.1404 - val_accuracy: 0.5693\n",
            "\n",
            "Epoch 00033: val_loss improved from 1.14181 to 1.14044, saving model to /face_model.h5\n",
            "Epoch 34/75\n",
            "359/359 [==============================] - 3s 9ms/step - loss: 1.1327 - accuracy: 0.5720 - val_loss: 1.1435 - val_accuracy: 0.5691\n",
            "\n",
            "Epoch 00034: val_loss did not improve from 1.14044\n",
            "Epoch 35/75\n",
            "359/359 [==============================] - 3s 9ms/step - loss: 1.1246 - accuracy: 0.5741 - val_loss: 1.1444 - val_accuracy: 0.5629\n",
            "\n",
            "Epoch 00035: val_loss did not improve from 1.14044\n",
            "Epoch 36/75\n",
            "359/359 [==============================] - 3s 9ms/step - loss: 1.1081 - accuracy: 0.5772 - val_loss: 1.1372 - val_accuracy: 0.5756\n",
            "\n",
            "Epoch 00036: val_loss improved from 1.14044 to 1.13721, saving model to /face_model.h5\n",
            "Epoch 37/75\n",
            "359/359 [==============================] - 3s 9ms/step - loss: 1.1148 - accuracy: 0.5816 - val_loss: 1.1431 - val_accuracy: 0.5700\n",
            "\n",
            "Epoch 00037: val_loss did not improve from 1.13721\n",
            "Epoch 38/75\n",
            "359/359 [==============================] - 3s 9ms/step - loss: 1.1075 - accuracy: 0.5812 - val_loss: 1.1297 - val_accuracy: 0.5742\n",
            "\n",
            "Epoch 00038: val_loss improved from 1.13721 to 1.12969, saving model to /face_model.h5\n",
            "Epoch 39/75\n",
            "359/359 [==============================] - 3s 9ms/step - loss: 1.0972 - accuracy: 0.5833 - val_loss: 1.1316 - val_accuracy: 0.5747\n",
            "\n",
            "Epoch 00039: val_loss did not improve from 1.12969\n",
            "Epoch 40/75\n",
            "359/359 [==============================] - 3s 9ms/step - loss: 1.0875 - accuracy: 0.5905 - val_loss: 1.1388 - val_accuracy: 0.5745\n",
            "\n",
            "Epoch 00040: val_loss did not improve from 1.12969\n",
            "Epoch 41/75\n",
            "359/359 [==============================] - 3s 9ms/step - loss: 1.0890 - accuracy: 0.5884 - val_loss: 1.1310 - val_accuracy: 0.5796\n",
            "\n",
            "Epoch 00041: val_loss did not improve from 1.12969\n",
            "Epoch 42/75\n",
            "359/359 [==============================] - 3s 9ms/step - loss: 1.0646 - accuracy: 0.5995 - val_loss: 1.1374 - val_accuracy: 0.5759\n",
            "\n",
            "Epoch 00042: val_loss did not improve from 1.12969\n",
            "Epoch 43/75\n",
            "359/359 [==============================] - 3s 9ms/step - loss: 1.0671 - accuracy: 0.6011 - val_loss: 1.1227 - val_accuracy: 0.5829\n",
            "\n",
            "Epoch 00043: val_loss improved from 1.12969 to 1.12274, saving model to /face_model.h5\n",
            "Epoch 44/75\n",
            "359/359 [==============================] - 3s 9ms/step - loss: 1.0598 - accuracy: 0.6000 - val_loss: 1.1269 - val_accuracy: 0.5827\n",
            "\n",
            "Epoch 00044: val_loss did not improve from 1.12274\n",
            "Epoch 45/75\n",
            "359/359 [==============================] - 3s 9ms/step - loss: 1.0563 - accuracy: 0.6029 - val_loss: 1.1215 - val_accuracy: 0.5869\n",
            "\n",
            "Epoch 00045: val_loss improved from 1.12274 to 1.12145, saving model to /face_model.h5\n",
            "Epoch 46/75\n",
            "359/359 [==============================] - 3s 9ms/step - loss: 1.0549 - accuracy: 0.6049 - val_loss: 1.1212 - val_accuracy: 0.5829\n",
            "\n",
            "Epoch 00046: val_loss improved from 1.12145 to 1.12122, saving model to /face_model.h5\n",
            "Epoch 47/75\n",
            "359/359 [==============================] - 3s 9ms/step - loss: 1.0461 - accuracy: 0.6074 - val_loss: 1.1210 - val_accuracy: 0.5827\n",
            "\n",
            "Epoch 00047: val_loss improved from 1.12122 to 1.12097, saving model to /face_model.h5\n",
            "Epoch 48/75\n",
            "359/359 [==============================] - 3s 9ms/step - loss: 1.0379 - accuracy: 0.6044 - val_loss: 1.1182 - val_accuracy: 0.5876\n",
            "\n",
            "Epoch 00048: val_loss improved from 1.12097 to 1.11817, saving model to /face_model.h5\n",
            "Epoch 49/75\n",
            "359/359 [==============================] - 3s 9ms/step - loss: 1.0324 - accuracy: 0.6111 - val_loss: 1.1187 - val_accuracy: 0.5850\n",
            "\n",
            "Epoch 00049: val_loss did not improve from 1.11817\n",
            "Epoch 50/75\n",
            "359/359 [==============================] - 3s 9ms/step - loss: 1.0399 - accuracy: 0.6113 - val_loss: 1.1114 - val_accuracy: 0.5853\n",
            "\n",
            "Epoch 00050: val_loss improved from 1.11817 to 1.11137, saving model to /face_model.h5\n",
            "Epoch 51/75\n",
            "359/359 [==============================] - 3s 9ms/step - loss: 1.0260 - accuracy: 0.6164 - val_loss: 1.1111 - val_accuracy: 0.5874\n",
            "\n",
            "Epoch 00051: val_loss improved from 1.11137 to 1.11108, saving model to /face_model.h5\n",
            "Epoch 52/75\n",
            "359/359 [==============================] - 3s 9ms/step - loss: 1.0169 - accuracy: 0.6200 - val_loss: 1.1142 - val_accuracy: 0.5820\n",
            "\n",
            "Epoch 00052: val_loss did not improve from 1.11108\n",
            "Epoch 53/75\n",
            "359/359 [==============================] - 3s 9ms/step - loss: 1.0256 - accuracy: 0.6117 - val_loss: 1.1210 - val_accuracy: 0.5852\n",
            "\n",
            "Epoch 00053: val_loss did not improve from 1.11108\n",
            "Epoch 54/75\n",
            "359/359 [==============================] - 3s 9ms/step - loss: 1.0303 - accuracy: 0.6158 - val_loss: 1.1153 - val_accuracy: 0.5881\n",
            "\n",
            "Epoch 00054: val_loss did not improve from 1.11108\n",
            "Epoch 55/75\n",
            "359/359 [==============================] - 3s 9ms/step - loss: 1.0066 - accuracy: 0.6215 - val_loss: 1.1219 - val_accuracy: 0.5827\n",
            "\n",
            "Epoch 00055: val_loss did not improve from 1.11108\n",
            "Epoch 56/75\n",
            "359/359 [==============================] - 3s 9ms/step - loss: 1.0091 - accuracy: 0.6166 - val_loss: 1.1254 - val_accuracy: 0.5871\n",
            "\n",
            "Epoch 00056: val_loss did not improve from 1.11108\n",
            "Epoch 57/75\n",
            "359/359 [==============================] - 3s 9ms/step - loss: 1.0202 - accuracy: 0.6136 - val_loss: 1.1185 - val_accuracy: 0.5893\n",
            "\n",
            "Epoch 00057: val_loss did not improve from 1.11108\n",
            "Epoch 58/75\n",
            "359/359 [==============================] - 3s 9ms/step - loss: 1.0026 - accuracy: 0.6228 - val_loss: 1.1237 - val_accuracy: 0.5892\n",
            "\n",
            "Epoch 00058: val_loss did not improve from 1.11108\n",
            "Epoch 59/75\n",
            "359/359 [==============================] - 3s 9ms/step - loss: 0.9958 - accuracy: 0.6239 - val_loss: 1.1174 - val_accuracy: 0.5836\n",
            "\n",
            "Epoch 00059: val_loss did not improve from 1.11108\n",
            "Epoch 60/75\n",
            "359/359 [==============================] - 3s 9ms/step - loss: 0.9703 - accuracy: 0.6370 - val_loss: 1.1226 - val_accuracy: 0.5801\n",
            "\n",
            "Epoch 00060: val_loss did not improve from 1.11108\n",
            "Epoch 61/75\n",
            "359/359 [==============================] - 3s 9ms/step - loss: 0.9828 - accuracy: 0.6283 - val_loss: 1.1236 - val_accuracy: 0.5921\n",
            "\n",
            "Epoch 00061: val_loss did not improve from 1.11108\n",
            "Epoch 62/75\n",
            "359/359 [==============================] - 3s 9ms/step - loss: 0.9624 - accuracy: 0.6389 - val_loss: 1.1162 - val_accuracy: 0.5871\n",
            "\n",
            "Epoch 00062: val_loss did not improve from 1.11108\n",
            "Epoch 63/75\n",
            "359/359 [==============================] - 3s 9ms/step - loss: 0.9854 - accuracy: 0.6240 - val_loss: 1.1116 - val_accuracy: 0.5953\n",
            "\n",
            "Epoch 00063: val_loss did not improve from 1.11108\n",
            "Epoch 64/75\n",
            "359/359 [==============================] - 3s 9ms/step - loss: 0.9798 - accuracy: 0.6309 - val_loss: 1.1147 - val_accuracy: 0.5857\n",
            "\n",
            "Epoch 00064: val_loss did not improve from 1.11108\n",
            "Epoch 65/75\n",
            "359/359 [==============================] - 3s 9ms/step - loss: 0.9788 - accuracy: 0.6339 - val_loss: 1.1078 - val_accuracy: 0.5920\n",
            "\n",
            "Epoch 00065: val_loss improved from 1.11108 to 1.10777, saving model to /face_model.h5\n",
            "Epoch 66/75\n",
            "359/359 [==============================] - 3s 9ms/step - loss: 0.9864 - accuracy: 0.6259 - val_loss: 1.1294 - val_accuracy: 0.5866\n",
            "\n",
            "Epoch 00066: val_loss did not improve from 1.10777\n",
            "Epoch 67/75\n",
            "359/359 [==============================] - 3s 9ms/step - loss: 0.9625 - accuracy: 0.6407 - val_loss: 1.1168 - val_accuracy: 0.5900\n",
            "\n",
            "Epoch 00067: val_loss did not improve from 1.10777\n",
            "Epoch 68/75\n",
            "359/359 [==============================] - 3s 9ms/step - loss: 0.9625 - accuracy: 0.6364 - val_loss: 1.1170 - val_accuracy: 0.5832\n",
            "\n",
            "Epoch 00068: val_loss did not improve from 1.10777\n",
            "Epoch 69/75\n",
            "359/359 [==============================] - 3s 9ms/step - loss: 0.9532 - accuracy: 0.6426 - val_loss: 1.1228 - val_accuracy: 0.5838\n",
            "\n",
            "Epoch 00069: val_loss did not improve from 1.10777\n",
            "Epoch 70/75\n",
            "359/359 [==============================] - 3s 9ms/step - loss: 0.9722 - accuracy: 0.6369 - val_loss: 1.1149 - val_accuracy: 0.5927\n",
            "\n",
            "Epoch 00070: val_loss did not improve from 1.10777\n",
            "Epoch 71/75\n",
            "359/359 [==============================] - 3s 9ms/step - loss: 0.9421 - accuracy: 0.6448 - val_loss: 1.1138 - val_accuracy: 0.5942\n",
            "\n",
            "Epoch 00071: val_loss did not improve from 1.10777\n",
            "Epoch 72/75\n",
            "359/359 [==============================] - 3s 9ms/step - loss: 0.9530 - accuracy: 0.6456 - val_loss: 1.1043 - val_accuracy: 0.5954\n",
            "\n",
            "Epoch 00072: val_loss improved from 1.10777 to 1.10433, saving model to /face_model.h5\n",
            "Epoch 73/75\n",
            "359/359 [==============================] - 3s 9ms/step - loss: 0.9478 - accuracy: 0.6428 - val_loss: 1.1218 - val_accuracy: 0.5843\n",
            "\n",
            "Epoch 00073: val_loss did not improve from 1.10433\n",
            "Epoch 74/75\n",
            "359/359 [==============================] - 3s 9ms/step - loss: 0.9583 - accuracy: 0.6368 - val_loss: 1.1178 - val_accuracy: 0.5932\n",
            "\n",
            "Epoch 00074: val_loss did not improve from 1.10433\n",
            "Epoch 75/75\n",
            "359/359 [==============================] - 3s 9ms/step - loss: 0.9479 - accuracy: 0.6438 - val_loss: 1.1205 - val_accuracy: 0.5928\n",
            "\n",
            "Epoch 00075: val_loss did not improve from 1.10433\n"
          ],
          "name": "stdout"
        }
      ]
    },
    {
      "cell_type": "code",
      "metadata": {
        "id": "rZNPcA90bhzF"
      },
      "source": [
        "model.save_weights(\"face_model.h5\")"
      ],
      "execution_count": null,
      "outputs": []
    },
    {
      "cell_type": "code",
      "metadata": {
        "colab": {
          "base_uri": "https://localhost:8080/"
        },
        "id": "nTS4yBBSLTl_",
        "outputId": "d3b0a6cb-b43c-413f-dca7-b8b0bc69ecbe"
      },
      "source": [
        "scores = model.evaluate(X_test, test_y, verbose=1)\n",
        "print(100*scores[1])\n",
        "print('Test loss:', scores[0])\n",
        "print('Test accuracy:', scores[1])"
      ],
      "execution_count": null,
      "outputs": [
        {
          "output_type": "stream",
          "text": [
            "113/113 [==============================] - 0s 3ms/step - loss: 1.1032 - accuracy: 0.5834\n",
            "58.34494233131409\n",
            "Test loss: 1.1031887531280518\n",
            "Test accuracy: 0.5834494233131409\n"
          ],
          "name": "stdout"
        }
      ]
    },
    {
      "cell_type": "code",
      "metadata": {
        "id": "X0VizikKzeuc"
      },
      "source": [
        "os.chdir('/gdrive/My Drive/Proje')\n",
        "m_json = model.to_json()  \n",
        "with open(\"face_model.json\", \"w\") as json_file:  \n",
        "    json_file.write(m_json)  "
      ],
      "execution_count": null,
      "outputs": []
    },
    {
      "cell_type": "code",
      "metadata": {
        "colab": {
          "base_uri": "https://localhost:8080/",
          "height": 17
        },
        "id": "cI6lNiaWno4v",
        "outputId": "6effb7e2-bc9c-4d24-88bb-a2070af00f00"
      },
      "source": [
        "from google.colab import files\n",
        "files.download(\"face_model.json\")\n",
        "files.download(\"face_model.h5\")"
      ],
      "execution_count": null,
      "outputs": [
        {
          "output_type": "display_data",
          "data": {
            "application/javascript": [
              "\n",
              "    async function download(id, filename, size) {\n",
              "      if (!google.colab.kernel.accessAllowed) {\n",
              "        return;\n",
              "      }\n",
              "      const div = document.createElement('div');\n",
              "      const label = document.createElement('label');\n",
              "      label.textContent = `Downloading \"${filename}\": `;\n",
              "      div.appendChild(label);\n",
              "      const progress = document.createElement('progress');\n",
              "      progress.max = size;\n",
              "      div.appendChild(progress);\n",
              "      document.body.appendChild(div);\n",
              "\n",
              "      const buffers = [];\n",
              "      let downloaded = 0;\n",
              "\n",
              "      const channel = await google.colab.kernel.comms.open(id);\n",
              "      // Send a message to notify the kernel that we're ready.\n",
              "      channel.send({})\n",
              "\n",
              "      for await (const message of channel.messages) {\n",
              "        // Send a message to notify the kernel that we're ready.\n",
              "        channel.send({})\n",
              "        if (message.buffers) {\n",
              "          for (const buffer of message.buffers) {\n",
              "            buffers.push(buffer);\n",
              "            downloaded += buffer.byteLength;\n",
              "            progress.value = downloaded;\n",
              "          }\n",
              "        }\n",
              "      }\n",
              "      const blob = new Blob(buffers, {type: 'application/binary'});\n",
              "      const a = document.createElement('a');\n",
              "      a.href = window.URL.createObjectURL(blob);\n",
              "      a.download = filename;\n",
              "      div.appendChild(a);\n",
              "      a.click();\n",
              "      div.remove();\n",
              "    }\n",
              "  "
            ],
            "text/plain": [
              "<IPython.core.display.Javascript object>"
            ]
          },
          "metadata": {
            "tags": []
          }
        },
        {
          "output_type": "display_data",
          "data": {
            "application/javascript": [
              "download(\"download_370d1ff8-e858-4556-be1f-c5ceb87a2fcb\", \"face_model.json\", 4336)"
            ],
            "text/plain": [
              "<IPython.core.display.Javascript object>"
            ]
          },
          "metadata": {
            "tags": []
          }
        },
        {
          "output_type": "display_data",
          "data": {
            "application/javascript": [
              "\n",
              "    async function download(id, filename, size) {\n",
              "      if (!google.colab.kernel.accessAllowed) {\n",
              "        return;\n",
              "      }\n",
              "      const div = document.createElement('div');\n",
              "      const label = document.createElement('label');\n",
              "      label.textContent = `Downloading \"${filename}\": `;\n",
              "      div.appendChild(label);\n",
              "      const progress = document.createElement('progress');\n",
              "      progress.max = size;\n",
              "      div.appendChild(progress);\n",
              "      document.body.appendChild(div);\n",
              "\n",
              "      const buffers = [];\n",
              "      let downloaded = 0;\n",
              "\n",
              "      const channel = await google.colab.kernel.comms.open(id);\n",
              "      // Send a message to notify the kernel that we're ready.\n",
              "      channel.send({})\n",
              "\n",
              "      for await (const message of channel.messages) {\n",
              "        // Send a message to notify the kernel that we're ready.\n",
              "        channel.send({})\n",
              "        if (message.buffers) {\n",
              "          for (const buffer of message.buffers) {\n",
              "            buffers.push(buffer);\n",
              "            downloaded += buffer.byteLength;\n",
              "            progress.value = downloaded;\n",
              "          }\n",
              "        }\n",
              "      }\n",
              "      const blob = new Blob(buffers, {type: 'application/binary'});\n",
              "      const a = document.createElement('a');\n",
              "      a.href = window.URL.createObjectURL(blob);\n",
              "      a.download = filename;\n",
              "      div.appendChild(a);\n",
              "      a.click();\n",
              "      div.remove();\n",
              "    }\n",
              "  "
            ],
            "text/plain": [
              "<IPython.core.display.Javascript object>"
            ]
          },
          "metadata": {
            "tags": []
          }
        },
        {
          "output_type": "display_data",
          "data": {
            "application/javascript": [
              "download(\"download_b3e1d861-05ac-4df8-90ac-7099137b4ba4\", \"face_model.h5\", 1380768)"
            ],
            "text/plain": [
              "<IPython.core.display.Javascript object>"
            ]
          },
          "metadata": {
            "tags": []
          }
        }
      ]
    },
    {
      "cell_type": "code",
      "metadata": {
        "colab": {
          "base_uri": "https://localhost:8080/",
          "height": 233
        },
        "id": "oaoPQZitoBSs",
        "outputId": "364d70b3-cdd7-4ccd-99f2-eca96134e957"
      },
      "source": [
        "from matplotlib import pyplot as plt\n",
        "%matplotlib inline\n",
        "plt.figure(figsize=(14,3))\n",
        "plt.subplot(1, 2, 1)\n",
        "plt.suptitle('Eğitim', fontsize=10)\n",
        "plt.ylabel('Loss', fontsize=16)\n",
        "plt.plot(hist.history['loss'], color ='r', label='Training Loss')\n",
        "plt.plot(hist.history['val_loss'], color ='b', label='Validation Loss')\n",
        "plt.legend(loc='upper right')\n",
        "\n",
        "\n",
        "plt.subplot(1, 2, 2)\n",
        "plt.ylabel('Accuracy', fontsize=16)\n",
        "plt.plot(hist.history['accuracy'], color ='g', label='Training Accuracy')\n",
        "plt.plot(hist.history['val_accuracy'], color ='m', label='Validation Accuracy')\n",
        "plt.legend(loc='lower right')\n",
        "\n",
        "plt.show()"
      ],
      "execution_count": null,
      "outputs": [
        {
          "output_type": "display_data",
          "data": {
            "image/png": "[encoded data removed]",
            "text/plain": [
              "<Figure size 1008x216 with 2 Axes>"
            ]
          },
          "metadata": {
            "tags": [],
            "needs_background": "light"
          }
        }
      ]
    },
    {
      "cell_type": "code",
      "metadata": {
        "colab": {
          "base_uri": "https://localhost:8080/",
          "height": 313
        },
        "id": "aehhwYS4oGLb",
        "outputId": "d33cbaa2-6ae0-4786-fc78-6887331a954e"
      },
      "source": [
        "plt.suptitle('Model Accurarcy', fontsize=10)\n",
        "plt.plot(hist.history['accuracy'], color ='g', label='Training Accuracy')\n",
        "plt.ylabel('Accuracy', fontsize=16)\n",
        "plt.xlabel('Epochs', fontsize=16)\n",
        "plt.legend(['train'],loc='upper left')\n",
        "plt.show()"
      ],
      "execution_count": null,
      "outputs": [
        {
          "output_type": "display_data",
          "data": {
            "image/png": "[encoded data removed]",
            "text/plain": [
              "<Figure size 432x288 with 1 Axes>"
            ]
          },
          "metadata": {
            "tags": [],
            "needs_background": "light"
          }
        }
      ]
    },
    {
      "cell_type": "code",
      "metadata": {
        "colab": {
          "base_uri": "https://localhost:8080/"
        },
        "id": "ga8GA9xGoCC-",
        "outputId": "8495bfd4-785d-4c40-abef-6fa3195582b7"
      },
      "source": [
        "scores = model.evaluate(X_test, test_y, verbose=1)\n",
        "print(100*scores[1])\n",
        "print('loss:', scores[0])\n",
        "print('accuracy:', scores[1])"
      ],
      "execution_count": null,
      "outputs": [
        {
          "output_type": "stream",
          "text": [
            "113/113 [==============================] - 0s 3ms/step - loss: 1.1032 - accuracy: 0.5834\n",
            "58.34494233131409\n",
            "loss: 1.1031887531280518\n",
            "accuracy: 0.5834494233131409\n"
          ],
          "name": "stdout"
        }
      ]
    }
  ]
}